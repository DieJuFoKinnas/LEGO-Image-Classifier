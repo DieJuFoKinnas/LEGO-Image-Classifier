{
 "cells": [
  {
   "cell_type": "markdown",
   "metadata": {},
   "source": [
    "# Kann man Teile anhand ihrer Masse klassifizieren?"
   ]
  },
  {
   "cell_type": "code",
   "execution_count": 1,
   "metadata": {},
   "outputs": [],
   "source": [
    "import requests\n",
    "from bs4 import BeautifulSoup\n",
    "from collections import Counter\n",
    "import matplotlib.pyplot as plt\n"
   ]
  },
  {
   "cell_type": "code",
   "execution_count": 3,
   "metadata": {},
   "outputs": [
    {
     "name": "stdout",
     "output_type": "stream",
     "text": [
      "2g\n",
      "1g\n",
      "74g\n",
      "0.95g\n",
      "1g\n",
      "0.87g\n",
      "2.14g\n",
      "0.49g\n",
      "0.49g\n",
      "0.9g\n",
      "3g\n",
      "6g\n",
      "0.3g\n",
      "0.25g\n",
      "0.5g\n",
      "0.28g\n",
      "0.4g\n",
      "0.35g\n",
      "?\n",
      "Is ?\n",
      "?\n",
      "Is ?\n",
      "0.34g\n",
      "0.1g\n"
     ]
    }
   ],
   "source": [
    "min_id = 5\n",
    "max_id = 100\n",
    "\n",
    "all_weights = []\n",
    "quantities = []\n",
    "\n",
    "for i in range(min_id, max_id):\n",
    "  url = f'http://www.bricklink.com/v2/catalog/catalogitem.page?P={i}#T=C'\n",
    "  html = requests.get(url, headers={'user-agent': 'Mozilla/5.0 (Macintosh; Intel) Gecko/20100101 Firefox/59.0'})\n",
    "  soup = BeautifulSoup(html.text, 'html.parser')\n",
    "  weight = soup.find(id='item-weight-info')\n",
    "  if weight:\n",
    "    print(weight.string)\n",
    "    try:\n",
    "      number = float(weight.string[:-1])\n",
    "      if not number in all_weights:\n",
    "        all_weights.append(number)\n",
    "        quantities.append(1)\n",
    "      else:\n",
    "        quantities[all_weights.index(number)]+=1\n",
    "    except ValueError:\n",
    "      pass"
   ]
  },
  {
   "cell_type": "code",
   "execution_count": 6,
   "metadata": {},
   "outputs": [
    {
     "data": {
      "text/plain": [
       "18"
      ]
     },
     "execution_count": 6,
     "metadata": {},
     "output_type": "execute_result"
    }
   ],
   "source": [
    "len(quantities)"
   ]
  },
  {
   "cell_type": "code",
   "execution_count": 7,
   "metadata": {},
   "outputs": [
    {
     "data": {
      "image/png": "[encoded data removed]",
      "text/plain": [
       "<matplotlib.figure.Figure at 0x7fb722870978>"
      ]
     },
     "metadata": {},
     "output_type": "display_data"
    }
   ],
   "source": [
    "plt.bar(all_weights, quantities, tick_label=all_weights)\n",
    "plt.ylabel('quantity')\n",
    "plt.xlabel('weight')\n",
    "plt.show()"
   ]
  },
  {
   "cell_type": "markdown",
   "metadata": {},
   "source": [
    "Von den 19 Teilen die eine definierte Masse hatten, haben schon 2 die exakt gleiche Masse, das heißt, dass es kaum möglich ist die Teile anhand der Masse zu unterscheiden."
   ]
  }
 ],
 "metadata": {
  "kernelspec": {
   "display_name": "Python 3",
   "language": "python",
   "name": "python3"
  },
  "language_info": {
   "codemirror_mode": {
    "name": "ipython",
    "version": 3
   },
   "file_extension": ".py",
   "mimetype": "text/x-python",
   "name": "python",
   "nbconvert_exporter": "python",
   "pygments_lexer": "ipython3",
   "version": "3.6.4"
  }
 },
 "nbformat": 4,
 "nbformat_minor": 2
}
